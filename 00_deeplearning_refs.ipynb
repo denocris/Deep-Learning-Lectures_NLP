{
 "cells": [
  {
   "cell_type": "markdown",
   "metadata": {},
   "source": [
    "<h1 style=\"text-align: center;\" markdown=\"1\"> Deep Learning in Natural Language Processing </h1>"
   ]
  },
  {
   "cell_type": "markdown",
   "metadata": {},
   "source": [
    "<img src=\"images/mypresentation.jpg\" alt=\"Drawing\" style=\"width: 800px;\"/>"
   ]
  },
  {
   "cell_type": "markdown",
   "metadata": {},
   "source": [
    "<img src=\"images/trieste.jpg\" alt=\"Drawing\" style=\"width: 900px;\"/>"
   ]
  },
  {
   "cell_type": "markdown",
   "metadata": {},
   "source": [
    "<img src=\"images/dli.jpg\" alt=\"Drawing\" style=\"width: 900px;\"/>"
   ]
  },
  {
   "cell_type": "markdown",
   "metadata": {},
   "source": [
    "#### My Personal Contacts:\n",
    "\n",
    "* [**instagram @denocris**](https://www.instagram.com/denocris/)\n",
    "\n",
    "* [**LinkedIn**](https://www.linkedin.com/in/cristiano-de-nobili/)\n",
    "\n",
    "* [**Github**](https://github.com/denocris)\n",
    "\n",
    "\n",
    "#### SISSA, ICTP and MHPC:\n",
    "\n",
    "* [**International School for Advanced Studies**](https://www.sissa.it/)\n",
    "\n",
    "* [**Internatiopn Centre for Theoretical Physics**](https://www.ictp.com/)\n",
    "\n",
    "* [**Master in High Performance Computing**](https://www.mhpc.it/)\n",
    "\n",
    "\n",
    "#### Deep Learning Italia:\n",
    "\n",
    "* [**DeepLearningItalia**](https://www.deeplearningitalia.it/)\n"
   ]
  },
  {
   "cell_type": "markdown",
   "metadata": {},
   "source": [
    "<h1 style=\"text-align: center;\" markdown=\"1\"> Deep Learning Useful References </h1>\n",
    "\n",
    "##### DL Theory \n",
    "\n",
    "* [Deep Learning - I. Goodfellow, Y. Bengio and A. Courville](http://www.deeplearningbook.org)\n",
    "\n",
    "* [Neural Networks and Deep Learning (Michael Nielsen)](http://neuralnetworksanddeeplearning.com)\n",
    "\n",
    "##### DL Practical Theory (Theory and Interactive Tutorials)\n",
    "\n",
    "* [Dive into Deep Learning](http://d2l.ai/index.html)\n",
    "\n",
    "##### TensorFlow \n",
    "\n",
    "* [TensorFlow Official](https://www.tensorflow.org)\n",
    "\n",
    "* [TensorFlow for DL Research (Stanford Course)](https://web.stanford.edu/class/cs20si/2017/)\n",
    "\n",
    "* [TensorFlow playground](http://playground.tensorflow.org/)\n",
    "\n",
    "##### TensorFlow Example \n",
    "\n",
    "* [TensorFlow examples (Aymericdamien)](https://github.com/aymericdamien/TensorFlow-Examples)\n",
    "\n",
    "* [Effective TensorFlow (Vahidk)](https://github.com/vahidk/EffectiveTensorflow)\n",
    "\n",
    "* [TensorFlow Probability (Intro)](https://medium.com/tensorflow/introducing-tensorflow-probability-dca4c304e245)\n",
    "\n",
    "* [DL: Theory and Experiments](https://github.com/roatienza/Deep-Learning-Experiments)\n",
    "\n",
    "##### PyTorch\n",
    "\n",
    "* [PyTorch Official](https://pytorch.org)\n",
    "* [PyTorch Example](https://github.com/jcjohnson/pytorch-examples#pytorch-nn)\n",
    "\n",
    "\n",
    "##### Natural Language Processing\n",
    "\n",
    "* [](http://karpathy.github.io/2015/05/21/rnn-effectiveness/)\n",
    "* TOREAD [NLP is Fun](https://medium.com/@ageitgey/natural-language-processing-is-fun-9a0bff37854e?fbclid=IwAR2v0anj5aUeQvwXVg6rmxG2EGrr3N76io6rUwV3GOXN_sp5PqiIz5fst6M)\n",
    "* TOREAD [Seq2Seq with Attention](https://guillaumegenthial.github.io/sequence-to-sequence.html)\n",
    "* TOREAD [PyText, Facebook NLP library](https://towardsdatascience.com/introducing-pytext-d8f404f1745)\n",
    "\n",
    "\n",
    "\n",
    "##### General Data Science\n",
    "\n",
    "* [Analyticsvidhaya (General Data Science)](https://www.analyticsvidhya.com/blog/)\n",
    "\n",
    "* [Computational Statistics with Python](http://people.duke.edu/~ccc14/sta-663-2017/)\n",
    "\n",
    "* [Colah's Blog](http://colah.github.io/)\n",
    "\n",
    "* [Getting Started with Statistics Concepts (Statsoft)](http://www.statsoft.com/Textbook/Elementary-Statistics-Concepts/fbclid/IwAR2Wp--UwCXuoV0II1kvTwbZ2ZO6XGdVTgyXCd3-ZeRHE6Xr7YuQnkP0kRc)\n",
    "\n",
    "* [Optimize ML with insight from Physics](https://medium.com/@animeshsk3/ranik-optimizer-mathematical-optimization-for-machine-learning-using-insights-from-physics-561e648d4a82)\n",
    "\n",
    "##### Research Paper & How to stay updated \n",
    "\n",
    "* [Arxiv](https://arxiv.org)\n",
    "\n",
    "* [Reddit, r/MachineLearning](https://www.reddit.com/r/MachineLearning/)\n",
    "\n",
    "* [Reddit, r/Artificial](https://www.reddit.com/r/artificial/)\n",
    "\n",
    "* [Reddit, r/MachinesLearn](https://www.reddit.com/r/MachinesLearn/)\n",
    "\n",
    "* [Research Paper with Codes](https://github.com/zziz/pwc?fbclid=IwAR1Pj8vLOwxWiuEKGHzCi7uOjbUOme3Isars_F7jKlzdDD6aOG8dTarKyeU)\n",
    "\n",
    "\n",
    "##### HPC Python\n",
    "\n",
    "* [HPC Python for NLP](https://medium.com/huggingface/100-times-faster-natural-language-processing-in-python-ee32033bdced)\n"
   ]
  },
  {
   "cell_type": "markdown",
   "metadata": {},
   "source": [
    "##### DLI NLP Lectures\n",
    "\n",
    "* [Wine price with TF](https://medium.com/tensorflow/predicting-the-price-of-wine-with-the-keras-functional-api-and-tensorflow-a95d1c2c1b03)\n",
    "\n",
    "* [Python Tips](https://www.techbeamers.com/python-tutorial-step-by-step/)\n",
    "\n",
    "* [Effective TensorFlow](https://github.com/vahidk/EffectiveTensorflow)\n",
    "\n",
    "* [TF Text Generator](https://www.tensorflow.org/tutorials/sequences/text_generation)\n",
    "\n",
    "* [RESEARCH PAPERS](https://paperswithcode.com/sota?fbclid=IwAR1M-rIbDSpathgGSB3-Aj4M76WAC-lmcer10jgaKV-VwR2cETpDEmCniIE)"
   ]
  },
  {
   "cell_type": "code",
   "execution_count": null,
   "metadata": {},
   "outputs": [],
   "source": []
  }
 ],
 "metadata": {
  "anaconda-cloud": {},
  "kernelspec": {
   "display_name": "Python 3",
   "language": "python",
   "name": "python3"
  },
  "language_info": {
   "codemirror_mode": {
    "name": "ipython",
    "version": 3
   },
   "file_extension": ".py",
   "mimetype": "text/x-python",
   "name": "python",
   "nbconvert_exporter": "python",
   "pygments_lexer": "ipython3",
   "version": "3.6.7"
  }
 },
 "nbformat": 4,
 "nbformat_minor": 2
}
